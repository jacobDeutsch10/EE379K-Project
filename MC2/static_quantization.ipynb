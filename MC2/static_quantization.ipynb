{
  "nbformat": 4,
  "nbformat_minor": 0,
  "metadata": {
    "colab": {
      "name": "static_quantization.ipynb",
      "provenance": []
    },
    "kernelspec": {
      "name": "python3",
      "display_name": "Python 3"
    },
    "language_info": {
      "name": "python"
    }
  },
  "cells": [
    {
      "cell_type": "code",
      "metadata": {
        "id": "voOyYTsjxWkW"
      },
      "source": [
        "\n",
        "from onnxruntime.quantization import quantize_static, CalibrationDataReader, QuantType\n",
        "import os\n",
        "from PIL import Image\n",
        "import numpy as np\n",
        "import onnxruntime\n",
        "import torch\n",
        "\n",
        "def preprocess_image(image_path, height, width, channels=3):\n",
        "    image = Image.open(image_path)\n",
        "    image = image.resize((width, height), Image.ANTIALIAS)\n",
        "    image_data = np.asarray(image).astype(np.float32)\n",
        "    image_data = image_data.transpose([2, 0, 1]) # transpose to CHW\n",
        "    mean = np.array([0.079, 0.05, 0]) + 0.406\n",
        "    std = np.array([0.005, 0, 0.001]) + 0.224\n",
        "    for channel in range(image_data.shape[0]):\n",
        "        image_data[channel, :, :] = (image_data[channel, :, :] / 255 - mean[channel]) / std[channel]\n",
        "    image_data = np.expand_dims(image_data, 0)\n",
        "    return image_data\n",
        "\n",
        "def preprocess_func(images_folder, height, width, size_limit=0):\n",
        "    image_names = os.listdir(images_folder)\n",
        "    if size_limit > 0 and len(image_names) >= size_limit:\n",
        "        batch_filenames = [image_names[i] for i in range(size_limit)]\n",
        "    else:\n",
        "        batch_filenames = image_names\n",
        "    unconcatenated_batch_data = []\n",
        "\n",
        "    for image_name in batch_filenames:\n",
        "        image_filepath = images_folder + '/' + image_name\n",
        "        image_data = preprocess_image(image_filepath, height, width)\n",
        "        unconcatenated_batch_data.append(image_data)\n",
        "    batch_data = np.concatenate(np.expand_dims(unconcatenated_batch_data, axis=0), axis=0)\n",
        "    return batch_data\n",
        "\n",
        "\n",
        "class MobilenetDataReader(CalibrationDataReader):\n",
        "    def __init__(self, calibration_image_folder):\n",
        "        self.image_folder = calibration_image_folder\n",
        "        self.preprocess_flag = True\n",
        "        self.enum_data_dicts = []\n",
        "        self.datasize = 0\n",
        "\n",
        "    def get_next(self):\n",
        "        if self.preprocess_flag:\n",
        "            self.preprocess_flag = False\n",
        "            nhwc_data_list = preprocess_func(self.image_folder, 32, 32, size_limit=0)\n",
        "            self.datasize = len(nhwc_data_list)\n",
        "            self.enum_data_dicts = iter([{'input.1': nhwc_data} for nhwc_data in nhwc_data_list])\n",
        "        return next(self.enum_data_dicts, None)"
      ],
      "execution_count": null,
      "outputs": []
    },
    {
      "cell_type": "code",
      "metadata": {
        "colab": {
          "base_uri": "https://localhost:8080/"
        },
        "id": "GqK6p8_61oIO",
        "outputId": "afd63216-18bd-46ed-f9b5-9b6f9b9b08e1"
      },
      "source": [
        "calibration_data_folder = \"/content/HW3_files/test_deployment\"\n",
        "dr = MobilenetDataReader(calibration_data_folder)\n",
        "quantize_static('/content/mbnv1_e5_f25_1.00e-03.onnx',\n",
        "                '/content/mbnv1_e5_f25_static_quant.onnx',\n",
        "                dr)"
      ],
      "execution_count": null,
      "outputs": [
        {
          "output_type": "stream",
          "text": [
            "WARNING:root:The original model opset version is 10, which does not support node fusions. Please update the model to opset >= 11 for better performance.\n"
          ],
          "name": "stderr"
        }
      ]
    },
    {
      "cell_type": "code",
      "metadata": {
        "colab": {
          "base_uri": "https://localhost:8080/"
        },
        "id": "1XGmCMyEAOpa",
        "outputId": "6d275778-e0b4-4737-f87c-2a3b8c059d3e"
      },
      "source": [
        "dr = MobilenetDataReader(calibration_data_folder)\n",
        "quantize_static('/content/mbnv1_e3_f5_1.00e-03.onnx',\n",
        "                '/content/mbnv1_e3_f5_static_quant.onnx',\n",
        "                dr)\n",
        "dr = MobilenetDataReader(calibration_data_folder)\n",
        "quantize_static('/content/mbnv1_e3_f25_1.00e-03.onnx',\n",
        "                '/content/mbnv1_e3_f25_static_quant.onnx',\n",
        "                dr)\n",
        "dr = MobilenetDataReader(calibration_data_folder)\n",
        "quantize_static('/content/mbnv1_e3_f50_1.00e-03.onnx',\n",
        "                '/content/mbnv1_e3_f50_static_quant.onnx',\n",
        "                dr)\n",
        "dr = MobilenetDataReader(calibration_data_folder)\n",
        "quantize_static('/content/mbnv1_e3_f75_1.00e-03.onnx',\n",
        "                '/content/mbnv1_e3_f75_static_quant.onnx',\n",
        "                dr)\n",
        "dr = MobilenetDataReader(calibration_data_folder)\n",
        "quantize_static('/content/mbnv1_e3_f90_1.00e-03.onnx',\n",
        "                '/content/mbnv1_e3_f90_static_quant.onnx',\n",
        "                dr)\n",
        "dr = MobilenetDataReader(calibration_data_folder)\n",
        "quantize_static('/content/mbnv1_e5_f5_1.00e-03.onnx',\n",
        "                '/content/mbnv1_e5_f5_static_quant.onnx',\n",
        "                dr)\n",
        "dr = MobilenetDataReader(calibration_data_folder)\n",
        "quantize_static('/content/mbnv1_e5_f50_1.00e-03.onnx',\n",
        "                '/content/mbnv1_e5_f50_static_quant.onnx',\n",
        "                dr)\n",
        "dr = MobilenetDataReader(calibration_data_folder)\n",
        "quantize_static('/content/mbnv1_e5_f75_1.00e-03.onnx',\n",
        "                '/content/mbnv1_e5_f75_static_quant.onnx',\n",
        "                dr)\n",
        "dr = MobilenetDataReader(calibration_data_folder)\n",
        "quantize_static('/content/mbnv1_e5_f90_1.00e-03.onnx',\n",
        "                '/content/mbnv1_e5_f90_static_quant.onnx',\n",
        "                dr)"
      ],
      "execution_count": null,
      "outputs": [
        {
          "output_type": "stream",
          "text": [
            "WARNING:root:The original model opset version is 10, which does not support node fusions. Please update the model to opset >= 11 for better performance.\n",
            "WARNING:root:The original model opset version is 10, which does not support node fusions. Please update the model to opset >= 11 for better performance.\n",
            "WARNING:root:The original model opset version is 10, which does not support node fusions. Please update the model to opset >= 11 for better performance.\n",
            "WARNING:root:The original model opset version is 10, which does not support node fusions. Please update the model to opset >= 11 for better performance.\n",
            "WARNING:root:The original model opset version is 10, which does not support node fusions. Please update the model to opset >= 11 for better performance.\n",
            "WARNING:root:The original model opset version is 10, which does not support node fusions. Please update the model to opset >= 11 for better performance.\n",
            "WARNING:root:The original model opset version is 10, which does not support node fusions. Please update the model to opset >= 11 for better performance.\n",
            "WARNING:root:The original model opset version is 10, which does not support node fusions. Please update the model to opset >= 11 for better performance.\n",
            "WARNING:root:The original model opset version is 10, which does not support node fusions. Please update the model to opset >= 11 for better performance.\n"
          ],
          "name": "stderr"
        }
      ]
    },
    {
      "cell_type": "code",
      "metadata": {
        "id": "EajrPrOwxUKV"
      },
      "source": [
        ""
      ],
      "execution_count": null,
      "outputs": []
    }
  ]
}